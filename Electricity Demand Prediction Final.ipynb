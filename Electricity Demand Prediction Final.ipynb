{
 "cells": [
  {
   "cell_type": "markdown",
   "id": "a4da222f",
   "metadata": {},
   "source": [
    "# Electricity Demand Prediction"
   ]
  },
  {
   "cell_type": "code",
   "execution_count": null,
   "id": "bcc2ea97",
   "metadata": {},
   "outputs": [],
   "source": [
    "import pandas as pd\n",
    "import numpy as np\n",
    "import plotly.express as px\n",
    "import plotly.graph_objects as go\n",
    "import matplotlib.pyplot as plt\n",
    "import os\n",
    "import glob\n",
    "from sklearn.metrics import mean_squared_error, mean_absolute_error"
   ]
  },
  {
   "cell_type": "markdown",
   "id": "ca46d0e5",
   "metadata": {},
   "source": [
    "### Merging the data"
   ]
  },
  {
   "cell_type": "code",
   "execution_count": null,
   "id": "7bd0fcbe",
   "metadata": {},
   "outputs": [],
   "source": [
    "\n",
    "# Specify the folder path\n",
    "folder_path = 'C:\\\\Users\\\\JIT MONDAL\\\\Desktop\\\\West Bengal Electricity Demand'  # Replace with your folder path\n",
    "\n",
    "# Get all .xlsx files in the folder\n",
    "xlsx_files = glob.glob(os.path.join(folder_path, '*.xlsx'))\n",
    "allData = []\n",
    "# Loop through each file\n",
    "for file_path in xlsx_files:\n",
    "    print(f\"\\nProcessing file: {os.path.basename(file_path)}\")\n",
    "    \n",
    "    # Read the Excel file\n",
    "    df = pd.read_excel(file_path)\n",
    "    df = df.iloc[:-4]\n",
    "    print(f\"Initial DataFrame shape: {df.shape}\")\n",
    "    allData.append(df)\n",
    "    # Process your data here\n",
    "    # print(f\"Columns: {df.columns.tolist()}\")\n",
    "    # print(f\"Last 5 rows:\\n{df.tail()}\")\n",
    "\n",
    "merged_df = pd.concat(allData, ignore_index=True)   \n",
    "print(merged_df.tail())\n"
   ]
  },
  {
   "cell_type": "code",
   "execution_count": null,
   "id": "fbe2386e",
   "metadata": {},
   "outputs": [],
   "source": [
    "merged_df[\"Year\"]=[merged_df[\"State\"][i].split(\"-\")[-1].strip() for i in range(len(merged_df[\"State\"]))]\n",
    "merged_df[\"State\"]=[merged_df[\"State\"][i].split(\"-\")[0].strip() for i in range(len(merged_df[\"State\"]))]\n",
    "merged_df = merged_df[merged_df['State'] == 'West Bengal']\n"
   ]
  },
  {
   "cell_type": "code",
   "execution_count": null,
   "id": "0f1464de",
   "metadata": {},
   "outputs": [],
   "source": [
    "\n",
    "print(f\"\\nMerged DataFrame shape: {merged_df.shape}\")\n",
    "merged_df.to_csv(\"C:\\\\Users\\\\JIT MONDAL\\\\Desktop\\\\West Bengal Electricity Demand\\\\West_Bengal_Data_17_24.csv\", index=False)\n",
    "print(\"Data merged and saved successfully.\")"
   ]
  },
  {
   "cell_type": "code",
   "execution_count": null,
   "id": "620fa601",
   "metadata": {},
   "outputs": [],
   "source": [
    "data=pd.read_csv(\"West_Bengal_Data_17_24.csv\")\n",
    "data[\"Date\"],data['Time']=[data['Date'][i].split(\" \")[0]+\"-\"+str(data['Year'][i]) for i in range(len(data[\"Date\"]))],[data['Date'][i].split(\" \")[1] for i in range(len(data[\"Date\"]))]"
   ]
  },
  {
   "cell_type": "code",
   "execution_count": null,
   "id": "a6192169",
   "metadata": {},
   "outputs": [],
   "source": [
    "data.head()"
   ]
  },
  {
   "cell_type": "code",
   "execution_count": null,
   "id": "8d5e967d",
   "metadata": {},
   "outputs": [],
   "source": [
    "month={ 'Apr':'04',\n",
    "        'Aug': '08',\n",
    "        'Dec': '12',\n",
    "        'Feb': '02',\n",
    "        'Jan': '01',\n",
    "        'Jul': '07',\n",
    "        'Jun': '06',\n",
    "        'Mar': '03',\n",
    "        'May': '05',\n",
    "        'Nov': '11',\n",
    "        'Oct': '10',\n",
    "        'Sep': '09' }\n",
    "data['Date'] = data['Date'].replace(month, regex=True)"
   ]
  },
  {
   "cell_type": "code",
   "execution_count": null,
   "id": "6792a984",
   "metadata": {},
   "outputs": [],
   "source": [
    "data.head()"
   ]
  },
  {
   "cell_type": "code",
   "execution_count": null,
   "id": "dda1d5a6",
   "metadata": {},
   "outputs": [],
   "source": [
    "data['Time'] = pd.to_datetime(data['Time'], format='%I%p').dt.time"
   ]
  },
  {
   "cell_type": "code",
   "execution_count": null,
   "id": "8b3c517d",
   "metadata": {},
   "outputs": [],
   "source": [
    "data[\"DateTime\"] = pd.to_datetime(data['Date'].astype(str) + ' ' + data['Time'].astype(str), format='%d-%m-%Y %H:%M:%S')"
   ]
  },
  {
   "cell_type": "code",
   "execution_count": null,
   "id": "db5126c5",
   "metadata": {},
   "outputs": [],
   "source": [
    "data.head()"
   ]
  },
  {
   "cell_type": "code",
   "execution_count": null,
   "id": "abbf8450",
   "metadata": {},
   "outputs": [],
   "source": [
    "data = data.drop(['Date', 'Year','Time'], axis=1)"
   ]
  },
  {
   "cell_type": "markdown",
   "id": "470ab8cb",
   "metadata": {},
   "source": [
    "### Adding the temperature data"
   ]
  },
  {
   "cell_type": "code",
   "execution_count": null,
   "id": "87205c18",
   "metadata": {},
   "outputs": [],
   "source": [
    "temperature_data = pd.read_csv('West_bengal_temperatures.csv',skiprows=6,header=1)"
   ]
  },
  {
   "cell_type": "code",
   "execution_count": null,
   "id": "c9966e1e",
   "metadata": {},
   "outputs": [],
   "source": [
    "temperature_data.sample(10)"
   ]
  },
  {
   "cell_type": "code",
   "execution_count": null,
   "id": "07243ef5",
   "metadata": {},
   "outputs": [],
   "source": [
    "temperature_data=temperature_data[(temperature_data['time'] >= '2017-01-01') & (temperature_data['time'] <= '2024-04-31')]"
   ]
  },
  {
   "cell_type": "code",
   "execution_count": null,
   "id": "06b58974",
   "metadata": {},
   "outputs": [],
   "source": [
    "temperature_data['time']   = pd.to_datetime(temperature_data['time'], format='%Y-%m-%dT%H:%M')"
   ]
  },
  {
   "cell_type": "code",
   "execution_count": null,
   "id": "4b67a2c6",
   "metadata": {},
   "outputs": [],
   "source": [
    "temperature_data['temperature_2m (°C)']=pd.to_numeric(temperature_data['temperature_2m (°C)'], errors='coerce')"
   ]
  },
  {
   "cell_type": "code",
   "execution_count": null,
   "id": "cab8fd65",
   "metadata": {},
   "outputs": [],
   "source": [
    "population={\n",
    "    \n",
    "    '0': 4486679,\n",
    "    '1': 563917,\n",
    "    '2': 513264,\n",
    "    '3': 566937,\n",
    "    '4': 1077075\n",
    "}"
   ]
  },
  {
   "cell_type": "code",
   "execution_count": null,
   "id": "61a7284a",
   "metadata": {},
   "outputs": [],
   "source": [
    "temperature_data['Population'] = [population[f'{i}'] for i in temperature_data['location_id']]"
   ]
  },
  {
   "cell_type": "code",
   "execution_count": null,
   "id": "952f54d5",
   "metadata": {},
   "outputs": [],
   "source": [
    "weighted_avg = temperature_data.groupby('time').apply(\n",
    "    lambda x: (x['temperature_2m (°C)'] * x['Population']).sum() / x['Population'].sum()\n",
    ").reset_index(name='weighted_avg_temperature')\n",
    "\n",
    "print(weighted_avg)"
   ]
  },
  {
   "cell_type": "code",
   "execution_count": null,
   "id": "f4ed77f6",
   "metadata": {},
   "outputs": [],
   "source": [
    "data['Temperature']= weighted_avg['weighted_avg_temperature']"
   ]
  },
  {
   "cell_type": "code",
   "execution_count": null,
   "id": "83b62254",
   "metadata": {},
   "outputs": [],
   "source": [
    "data.to_csv('West_Bengal_Data_17_24.csv', index=False)"
   ]
  },
  {
   "cell_type": "code",
   "execution_count": null,
   "id": "0806cf43",
   "metadata": {},
   "outputs": [],
   "source": [
    "west_bengal_data = pd.read_csv('West_Bengal_Data_17_24.csv')"
   ]
  },
  {
   "cell_type": "code",
   "execution_count": null,
   "id": "dda85b77",
   "metadata": {},
   "outputs": [],
   "source": [
    "west_bengal_data.shape"
   ]
  },
  {
   "cell_type": "code",
   "execution_count": null,
   "id": "d5f9dc0a",
   "metadata": {},
   "outputs": [],
   "source": [
    "west_bengal_data.info()"
   ]
  },
  {
   "cell_type": "code",
   "execution_count": null,
   "id": "065855d3",
   "metadata": {},
   "outputs": [],
   "source": [
    "west_bengal_data['DateTime'] = pd.to_datetime(west_bengal_data['DateTime'], format='%Y-%m-%d %H:%M:%S')"
   ]
  },
  {
   "cell_type": "code",
   "execution_count": null,
   "id": "efd329c4",
   "metadata": {},
   "outputs": [],
   "source": [
    "west_bengal_data.sample(5)"
   ]
  },
  {
   "cell_type": "markdown",
   "id": "efe03c8f",
   "metadata": {},
   "source": [
    "## Applying MSTL model"
   ]
  },
  {
   "cell_type": "code",
   "execution_count": null,
   "id": "da3b3771",
   "metadata": {},
   "outputs": [],
   "source": [
    "from statsmodels.tsa.seasonal import MSTL\n",
    "# Apply MSTL decomposition\n",
    "mstl = MSTL(west_bengal_data[\"Hourly Demand Met (in MW)\"], periods=(24,168,24*365))  # seasonal=13 for monthly data\n",
    "result_mstl = mstl.fit()"
   ]
  },
  {
   "cell_type": "code",
   "execution_count": null,
   "id": "c89e26a8",
   "metadata": {},
   "outputs": [],
   "source": [
    "# Extract components\n",
    "west_bengal_data['trend'] = result_mstl.trend\n",
    "west_bengal_data['daily_seasonal'] = result_mstl.seasonal['seasonal_24']\n",
    "west_bengal_data['weekly_seasonal'] = result_mstl.seasonal['seasonal_168']  # 168 = 24*7\n",
    "west_bengal_data['yearly_seasonal'] = result_mstl.seasonal['seasonal_8760']  # 8760 = 24*365\n",
    "west_bengal_data['resid'] = result_mstl.resid"
   ]
  },
  {
   "cell_type": "code",
   "execution_count": null,
   "id": "b206ea7a",
   "metadata": {},
   "outputs": [],
   "source": [
    "\n",
    "from plotly.subplots import make_subplots\n",
    "# Create subplots\n",
    "fig = make_subplots(\n",
    "    rows=5, cols=1,\n",
    "    shared_xaxes=True,\n",
    "    subplot_titles=(\"Trend\", \"Daily Seasonality\",\"Yearly Seasonality\",\"Weekly Seasonality\", \"Residuals\")\n",
    ")\n",
    "\n",
    "# Add traces for each component\n",
    "fig.add_trace(\n",
    "    go.Scatter(x=west_bengal_data['DateTime'], y=west_bengal_data['trend'], name='Trend'),\n",
    "    row=1, col=1\n",
    ")\n",
    "\n",
    "fig.add_trace(\n",
    "    go.Scatter(x=west_bengal_data['DateTime'], y=west_bengal_data['daily_seasonal'], name='Daily'),\n",
    "    row=2, col=1\n",
    ")\n",
    "\n",
    "fig.add_trace(\n",
    "    go.Scatter(x=west_bengal_data['DateTime'], y=west_bengal_data['yearly_seasonal'], name='Yearly'),\n",
    "    row=3, col=1\n",
    ")\n",
    "\n",
    "\n",
    "fig.add_trace(\n",
    "    go.Scatter(x=west_bengal_data['DateTime'], y=west_bengal_data['weekly_seasonal'], name='Weekly'),\n",
    "    row=4, col=1\n",
    ")\n",
    "fig.add_trace(\n",
    "    go.Scatter(x=west_bengal_data['DateTime'], y=west_bengal_data['resid'], name='Residual'),\n",
    "    row=5, col=1\n",
    ")\n",
    "\n",
    "\n",
    "# Update layout\n",
    "fig.update_layout(\n",
    "    title_text=\"MSTL Decomposition west_bengal_data\",\n",
    "    height=1200,\n",
    "    showlegend=False,\n",
    "    template=\"plotly_dark\",  # Optional: for dark mode\n",
    "    xaxis5=dict(\n",
    "        rangeslider=dict(visible=True),  # Enable range slider for the bottom subplot\n",
    "        type=\"date\"\n",
    "    )\n",
    ")\n",
    "\n",
    "# Update y-axis titles\n",
    "fig.update_yaxes(title_text=\"Trend\", row=1, col=1)\n",
    "fig.update_yaxes(title_text=\"Daily\", row=2, col=1)\n",
    "fig.update_yaxes(title_text=\"Yearly\", row=3, col=1)\n",
    "fig.update_yaxes(title_text=\"Weekly\", row=4, col=1)\n",
    "fig.update_yaxes(title_text=\"Residual\", row=5, col=1)\n",
    "\n",
    "fig.show()"
   ]
  },
  {
   "cell_type": "markdown",
   "id": "dccb3831",
   "metadata": {},
   "source": [
    "### Estimating the trend Component"
   ]
  },
  {
   "cell_type": "code",
   "execution_count": null,
   "id": "76f4f94d",
   "metadata": {},
   "outputs": [],
   "source": [
    "from patsy import dmatrix\n",
    "import statsmodels.api as sm\n",
    "x=np.arange(len(west_bengal_data['trend'][:-24*486]))\n",
    "spline_basis = dmatrix(\"bs(x, df=200, degree=3, include_intercept=False)\", {\"x\": x}, return_type='dataframe')\n",
    "y= west_bengal_data['trend'][:-24*486].values\n",
    "ols_model = sm.OLS(y, spline_basis).fit()\n",
    "x_final=np.arange(len(west_bengal_data['trend']))\n",
    "X_final = dmatrix(\"bs(x, df=200, degree=3)\", {\"x\": x_final})\n",
    "predicted_trend = ols_model.predict(X_final)\n",
    "y_final = west_bengal_data['trend'].values  \n",
    "\n",
    "\n",
    "plt.plot(west_bengal_data['DateTime'],y_final, label='Original')\n",
    "plt.plot(west_bengal_data['DateTime'],predicted_trend, label='Spline Fit', color='green')\n",
    "plt.xlabel(\"DateTime\")\n",
    "plt.ylabel(\"Trend\")\n",
    "plt.legend()\n",
    "plt.title(\"Spline Trend Fit\")\n",
    "plt.show()"
   ]
  },
  {
   "cell_type": "code",
   "execution_count": null,
   "id": "36d4043e",
   "metadata": {},
   "outputs": [],
   "source": [
    "mse_trend_spline = mean_squared_error(west_bengal_data['trend'][-24*486:], predicted_trend[-24*486:])\n",
    "mae_trend_spline = mean_absolute_error(west_bengal_data['trend'][-24*486:], predicted_trend[-24*486:])\n",
    "mse_table_trend = pd.DataFrame({\n",
    "    'Model': ['Spline'],\n",
    "    'MSE(Trend)': [f\"{mse_trend_spline:.2f}\"],\n",
    "    'MAE(Trend)': [f\"{mae_trend_spline:.2f}\"]\n",
    "})\n",
    "print(mse_table_trend)"
   ]
  },
  {
   "cell_type": "markdown",
   "id": "da97bd40",
   "metadata": {},
   "source": [
    "### Estimating Daily Seasonality"
   ]
  },
  {
   "cell_type": "markdown",
   "id": "4cf40343",
   "metadata": {},
   "source": [
    "##### Using Dummy variables"
   ]
  },
  {
   "cell_type": "markdown",
   "id": "0afed4a1",
   "metadata": {},
   "source": [
    "We will create 24 dummie variables consisting of 24 hours. Then we will try to fit a Linear Model to predict the daily seasonality."
   ]
  },
  {
   "cell_type": "code",
   "execution_count": null,
   "id": "b62c6834",
   "metadata": {},
   "outputs": [],
   "source": [
    "hour_dummies = pd.get_dummies(west_bengal_data['DateTime'].dt.time, prefix='hour', drop_first=True)"
   ]
  },
  {
   "cell_type": "code",
   "execution_count": null,
   "id": "84bcc517",
   "metadata": {},
   "outputs": [],
   "source": [
    "hour_dummies"
   ]
  },
  {
   "cell_type": "code",
   "execution_count": null,
   "id": "13232b71",
   "metadata": {},
   "outputs": [],
   "source": [
    "from sklearn.linear_model import LinearRegression\n",
    "# Fit a linear regression model to predict seasonality from hour dummies\n",
    "lr_model = LinearRegression()\n",
    "lr_model.fit(hour_dummies[:-24*486], west_bengal_data['daily_seasonal'][:-24*486])\n",
    "\n",
    "# Predict seasonality from hour\n",
    "daily_seasonality= lr_model.predict(hour_dummies)"
   ]
  },
  {
   "cell_type": "code",
   "execution_count": null,
   "id": "11a74d01",
   "metadata": {},
   "outputs": [],
   "source": [
    "forecast_steps = 24 * 486 # Forecast for the next 7 days (24 hours each)\n",
    "fig= go.Figure()\n",
    "fig.add_trace(go.Scatter(x=west_bengal_data['DateTime'][-forecast_steps:], y=west_bengal_data['daily_seasonal'][-forecast_steps:], name='Observed'))\n",
    "fig.add_trace(go.Scatter(x=west_bengal_data['DateTime'][-forecast_steps:], y=daily_seasonality[-forecast_steps:], name='Forecast_Dummy'))\n",
    "fig.update_layout(\n",
    "    title='Daily Seasonality using Dummy Variable vs Observed',\n",
    "    xaxis_title='DateTime',\n",
    "    yaxis_title='Daily Seasonal Component',\n",
    "    # xaxis=dict(\n",
    "    #     rangeslider=dict(visible=True),  # Enable range slider for the bottom subplot\n",
    "    #     type=\"date\"  # Use date scale for x-axis\n",
    "    # ),\n",
    "    template='plotly_white'\n",
    ")\n",
    "fig.show()\n"
   ]
  },
  {
   "cell_type": "code",
   "execution_count": null,
   "id": "692c4469",
   "metadata": {},
   "outputs": [],
   "source": [
    "lr_model.coef_"
   ]
  },
  {
   "cell_type": "code",
   "execution_count": null,
   "id": "74c77d20",
   "metadata": {},
   "outputs": [],
   "source": [
    "forecast_steps=24*486\n",
    "actual = west_bengal_data['daily_seasonal'][-forecast_steps:]\n",
    "forecast = daily_seasonality[-forecast_steps:]\n",
    "# Calculate MSE\n",
    "mse_Dummy_daily = mean_squared_error(actual, forecast)\n",
    "mae_Dummy_daily = mean_absolute_error(actual, forecast)\n",
    "print(f\"MSE for the lr model to predict daily seasonality using dummy variables  : {mse_Dummy_daily:.2f}\")\n",
    "print(f\"MAE for the lr model to predict daily seasonality using dummy variables  : {mae_Dummy_daily:.2f}\")"
   ]
  },
  {
   "cell_type": "markdown",
   "id": "356cf5ab",
   "metadata": {},
   "source": [
    "### Using TBATS"
   ]
  },
  {
   "cell_type": "code",
   "execution_count": null,
   "id": "ac08e6db",
   "metadata": {},
   "outputs": [],
   "source": [
    "from tbats import TBATS\n",
    "\n",
    "\n",
    "model_daily = TBATS(\n",
    "    seasonal_periods=[24],\n",
    "  \n",
    "    use_box_cox=False,\n",
    "    \n",
    "    use_arma_errors=True\n",
    ")"
   ]
  },
  {
   "cell_type": "code",
   "execution_count": null,
   "id": "eaab8934",
   "metadata": {},
   "outputs": [],
   "source": [
    "fitted_model_daily = model_daily.fit( west_bengal_data['daily_seasonal'][:-24*486])"
   ]
  },
  {
   "cell_type": "code",
   "execution_count": null,
   "id": "2c0052a9",
   "metadata": {},
   "outputs": [],
   "source": [
    "# Forecast trend + residual\n",
    "forecast_steps = 24 * 486  # 486 days ahead\n",
    "daily_seasonality_tbats = fitted_model_daily.forecast(steps=forecast_steps)"
   ]
  },
  {
   "cell_type": "code",
   "execution_count": null,
   "id": "8ee83d33",
   "metadata": {},
   "outputs": [],
   "source": [
    "fig= go.Figure()\n",
    "fig.add_trace(go.Scatter(x=west_bengal_data['DateTime'][-forecast_steps:], y=west_bengal_data['daily_seasonal'][-forecast_steps:], name='Observed'))\n",
    "fig.add_trace(go.Scatter(x=west_bengal_data['DateTime'][-forecast_steps:], y=daily_seasonality_tbats, name='Forecast_TBATS'))\n",
    "fig.update_layout(\n",
    "    title='TBATS Forecast vs Observed',\n",
    "    xaxis_title='DateTime',\n",
    "    yaxis_title='Daily Seasonal Component',\n",
    "    # xaxis=dict(\n",
    "    #     rangeslider=dict(visible=True),  # Enable range slider for the bottom subplot\n",
    "    #     type=\"date\"  # Use date scale for x-axis\n",
    "    # ),\n",
    "    template='plotly_white'\n",
    ")\n",
    "fig.show()"
   ]
  },
  {
   "cell_type": "code",
   "execution_count": null,
   "id": "90587ad7",
   "metadata": {},
   "outputs": [],
   "source": [
    "mse_tbats_daily = mean_squared_error(actual, daily_seasonality_tbats)\n",
    "mae_tbats_daily = mean_absolute_error(actual, daily_seasonality_tbats)\n",
    "print(f\"MSE for the lr model to predict daily seasonality using tbats  : {mse_tbats_daily:.2f}\")\n",
    "print(f\"MAE for the lr model to predict daily seasonality using tbats  : {mae_tbats_daily:.2f}\")"
   ]
  },
  {
   "cell_type": "code",
   "execution_count": null,
   "id": "1a936db0",
   "metadata": {},
   "outputs": [],
   "source": [
    "mse_tbats_daily = mean_squared_error(west_bengal_data['daily_seasonal'][-forecast_steps:], daily_seasonality_tbats)\n",
    "mae_tbats_daily = mean_absolute_error(west_bengal_data['daily_seasonal'][-forecast_steps:], daily_seasonality_tbats)\n",
    "mse_Dummy_daily = mean_squared_error(west_bengal_data['daily_seasonal'][-forecast_steps:], daily_seasonality[-forecast_steps:])\n",
    "mae_Dummy_daily = mean_absolute_error(west_bengal_data['daily_seasonal'][-forecast_steps:], daily_seasonality[-forecast_steps:])\n",
    "mse_table_daily = pd.DataFrame({\n",
    "    'Model': ['Dummy', 'TBATS'],\n",
    "    'MSE(Daily)': [f\"{mse_Dummy_daily:.2f}\", f\"{mse_tbats_daily:.2f}\"],\n",
    "    'MAE(Daily)': [f\"{mae_Dummy_daily:.2f}\", f\"{mae_tbats_daily:.2f}\"]\n",
    "})\n",
    "print(mse_table_daily)"
   ]
  },
  {
   "cell_type": "markdown",
   "id": "27d38925",
   "metadata": {},
   "source": [
    "So, using dummy variable explains better than tbats in forecasting daily seasonality."
   ]
  },
  {
   "cell_type": "markdown",
   "id": "fc2edd1b",
   "metadata": {},
   "source": [
    "### Modelling Yearly Seasonality"
   ]
  },
  {
   "cell_type": "markdown",
   "id": "924a2907",
   "metadata": {},
   "source": [
    "##### Using Dummy Variables"
   ]
  },
  {
   "cell_type": "code",
   "execution_count": null,
   "id": "caed559d",
   "metadata": {},
   "outputs": [],
   "source": [
    "month_dummies = pd.get_dummies(west_bengal_data['DateTime'].dt.month, prefix='month', drop_first=True)"
   ]
  },
  {
   "cell_type": "code",
   "execution_count": null,
   "id": "4f0943c7",
   "metadata": {},
   "outputs": [],
   "source": [
    "month_dummies"
   ]
  },
  {
   "cell_type": "code",
   "execution_count": null,
   "id": "1034ba42",
   "metadata": {},
   "outputs": [],
   "source": [
    "lr_model_monthly = LinearRegression()\n",
    "lr_model_monthly.fit(month_dummies[:-24*486], west_bengal_data['yearly_seasonal'][:-24*486])\n",
    "\n",
    "# Predict seasonality from hour\n",
    "monthly_seasonality= lr_model_monthly.predict(month_dummies)"
   ]
  },
  {
   "cell_type": "code",
   "execution_count": null,
   "id": "8ed81463",
   "metadata": {},
   "outputs": [],
   "source": [
    "fig= go.Figure()\n",
    "fig.add_trace(go.Scatter(x=west_bengal_data['DateTime'], y=west_bengal_data['yearly_seasonal'], name='Observed'))\n",
    "fig.add_trace(go.Scatter(x=west_bengal_data['DateTime'][-forecast_steps:], y=monthly_seasonality, name='Forecast_Dummy'))\n",
    "fig.update_layout(\n",
    "    title='Yearly Seasonality Using Dummy vs Observed',\n",
    "    xaxis_title='DateTime',\n",
    "    yaxis_title='Yearly Seasonal Component',\n",
    "    xaxis=dict(\n",
    "        rangeslider=dict(visible=True),  # Enable range slider for the bottom subplot\n",
    "        type=\"date\"  # Use date scale for x-axis\n",
    "    ),\n",
    "    template='plotly_dark'\n",
    ")\n",
    "fig.show()"
   ]
  },
  {
   "cell_type": "markdown",
   "id": "0791bab5",
   "metadata": {},
   "source": [
    "### Using TBATS"
   ]
  },
  {
   "cell_type": "code",
   "execution_count": null,
   "id": "c4f49ae5",
   "metadata": {},
   "outputs": [],
   "source": [
    "from tbats import TBATS\n",
    "\n",
    "# Fit TBATS on deseasonalized data\n",
    "model = TBATS(\n",
    "    seasonal_periods=[24*365],  # TBATS handles seasonality internally\n",
    "  \n",
    "    use_box_cox=False,\n",
    "    \n",
    "    use_arma_errors=True\n",
    ")"
   ]
  },
  {
   "cell_type": "code",
   "execution_count": null,
   "id": "d93f92bd",
   "metadata": {},
   "outputs": [],
   "source": [
    "fitted_model_yearly=model.fit(west_bengal_data['yearly_seasonal'][:-24*486])"
   ]
  },
  {
   "cell_type": "code",
   "execution_count": null,
   "id": "3105f427",
   "metadata": {},
   "outputs": [],
   "source": [
    "yearly_seasonality_tbats = fitted_model_yearly.forecast(steps=forecast_steps)"
   ]
  },
  {
   "cell_type": "code",
   "execution_count": null,
   "id": "8b7dc353",
   "metadata": {},
   "outputs": [],
   "source": [
    "fig= go.Figure()\n",
    "fig.add_trace(go.Scatter(x=west_bengal_data['DateTime'], y=west_bengal_data['yearly_seasonal'], name='Observed'))\n",
    "fig.add_trace(go.Scatter(x=west_bengal_data['DateTime'][-forecast_steps:], y=yearly_seasonality_tbats, name='Forecast_TBATS'))\n",
    "fig.update_layout(\n",
    "    title='Yearly Seasonality Using Dummy vs Observed',\n",
    "    xaxis_title='DateTime',\n",
    "    yaxis_title='Yearly Seasonal Component',\n",
    "    xaxis=dict(\n",
    "        rangeslider=dict(visible=True),  # Enable range slider for the bottom subplot\n",
    "        type=\"date\"  # Use date scale for x-axis\n",
    "    ),\n",
    "    template='plotly_dark'\n",
    ")\n",
    "fig.show()"
   ]
  },
  {
   "cell_type": "code",
   "execution_count": null,
   "id": "3cc68eec",
   "metadata": {},
   "outputs": [],
   "source": [
    "mse_tbats_yearly = mean_squared_error(west_bengal_data['yearly_seasonal'][-forecast_steps:], yearly_seasonality_tbats)\n",
    "mae_tbats_yearly = mean_absolute_error(west_bengal_data['yearly_seasonal'][-forecast_steps:], yearly_seasonality_tbats)\n",
    "mse_Dummy_yearly = mean_squared_error(west_bengal_data['yearly_seasonal'][-forecast_steps:], monthly_seasonality[-forecast_steps:])\n",
    "mae_Dummy_yearly = mean_absolute_error(west_bengal_data['yearly_seasonal'][-forecast_steps:], monthly_seasonality[-forecast_steps:])\n",
    "mse_table_yearly = pd.DataFrame({\n",
    "    'Model': ['Dummy', 'TBATS'],\n",
    "    'MSE(Yearly)': [f\"{mse_Dummy_yearly:.2f}\", f\"{mse_tbats_yearly:.2f}\"],\n",
    "    'MAE(Yearly)': [f\"{mae_Dummy_yearly:.2f}\", f\"{mae_tbats_yearly:.2f}\"]\n",
    "})\n",
    "print(mse_table_yearly)"
   ]
  },
  {
   "cell_type": "markdown",
   "id": "cfbc2f8d",
   "metadata": {},
   "source": [
    "## Checking the Residuals"
   ]
  },
  {
   "cell_type": "code",
   "execution_count": null,
   "id": "cd8e5ceb",
   "metadata": {},
   "outputs": [],
   "source": [
    "from statsmodels.tsa.stattools import adfuller\n",
    "result = adfuller(west_bengal_data['resid'], autolag='AIC')\n",
    "print(\"ADF Statistic:\", result[0])\n",
    "print(\"p-value:\", result[1])\n",
    "print(\"Used lags:\", result[2])\n",
    "print(\"Number of observations:\", result[3])\n",
    "print(\"Critical Values:\")\n",
    "for k, v in result[4].items():\n",
    "    print(f\"  {k}%: {v}\")"
   ]
  },
  {
   "cell_type": "markdown",
   "id": "7693c1b9",
   "metadata": {},
   "source": [
    "Hence the series is stationary."
   ]
  },
  {
   "cell_type": "code",
   "execution_count": null,
   "id": "84c3b801",
   "metadata": {},
   "outputs": [],
   "source": [
    "\n",
    "from statsmodels.tsa.stattools import acf,pacf\n",
    "import numpy as np\n",
    "\n",
    "# Example: ACF of STL residuals (replace `residuals` with your data)\n",
    "residuals = west_bengal_data['resid']  # From previous STL decomposition\n",
    "\n",
    "# Compute ACF and confidence intervals\n",
    "acf_values = acf(residuals, nlags=600, fft=True)  # nlags = max lag to compute\n",
    "conf_int = 1.96 / np.sqrt(len(residuals))  # 95% confidence interval\n",
    "\n",
    "# Create Plotly figure\n",
    "fig = go.Figure()\n",
    "\n",
    "# Add ACF bars\n",
    "fig.add_trace(\n",
    "    go.Bar(\n",
    "        x=list(range(len(acf_values))),\n",
    "        y=acf_values,\n",
    "        name=\"ACF\",\n",
    "    )\n",
    ")\n",
    "\n",
    "# Add confidence interval lines\n",
    "fig.add_hline(\n",
    "    y=conf_int,\n",
    "    line_dash=\"dot\",\n",
    "    line_color=\"red\",\n",
    "    annotation_text=\"95% CI\",\n",
    "    annotation_position=\"bottom right\"\n",
    ")\n",
    "fig.add_hline(\n",
    "    y=-conf_int,\n",
    "    line_dash=\"dot\",\n",
    "    line_color=\"red\"\n",
    ")\n",
    "\n",
    "# Customize layout\n",
    "fig.update_layout(\n",
    "    title=\"Autocorrelation (ACF) Plot\",\n",
    "    xaxis_title=\"Lag\",\n",
    "    yaxis_title=\"Correlation\",\n",
    "    showlegend=False,\n",
    "    template=\"plotly_white\",\n",
    "    # xaxis=dict(\n",
    "    #     rangeslider=dict(visible=True),  # Enable range slider for the bottom subplot\n",
    "    #     type=\"linear\"  # Use linear scale for x-axis\n",
    "    # )\n",
    ")\n",
    "\n",
    "fig.show()"
   ]
  },
  {
   "cell_type": "code",
   "execution_count": null,
   "id": "82caa086",
   "metadata": {},
   "outputs": [],
   "source": [
    "# 1. Compute PACF values (nlags = number of lags to compute)\n",
    "pacf_values = pacf(west_bengal_data['resid'], nlags=400)\n",
    "\n",
    "# 2. Plot using Plotly\n",
    "lags = list(range(len(pacf_values)))\n",
    "\n",
    "fig = go.Figure()\n",
    "\n",
    "# Bars\n",
    "fig.add_trace(go.Bar(x=lags, y=pacf_values, name='PACF'))\n",
    "\n",
    "# Confidence intervals (approx ±1.96/√n)\n",
    "import numpy as np\n",
    "conf_level = 1.96 / np.sqrt(len(west_bengal_data['resid']))\n",
    "\n",
    "fig.add_shape(type=\"line\", x0=0, x1=len(lags), y0=conf_level, y1=conf_level,\n",
    "              line=dict(color=\"red\", dash=\"dash\"))\n",
    "fig.add_shape(type=\"line\", x0=0, x1=len(lags), y0=-conf_level, y1=-conf_level,\n",
    "              line=dict(color=\"red\", dash=\"dash\"))\n",
    "\n",
    "# Layout\n",
    "fig.update_layout(title=\"Partial Autocorrelation Function (PACF)\",\n",
    "                  xaxis_title=\"Lag\",\n",
    "                  yaxis_title=\"PACF\",\n",
    "                  showlegend=False)\n",
    "fig.show()"
   ]
  },
  {
   "cell_type": "code",
   "execution_count": null,
   "id": "0073eb3f",
   "metadata": {},
   "outputs": [],
   "source": [
    "from statsmodels.stats.diagnostic import acorr_ljungbox\n",
    "\n",
    "# Perform Ljung-Box test (null hypothesis: no autocorrelation)\n",
    "ljung_box_result = acorr_ljungbox(west_bengal_data['resid'], lags=[1,24,168], return_df=True)\n",
    "print(ljung_box_result)"
   ]
  },
  {
   "cell_type": "code",
   "execution_count": null,
   "id": "62d4c185",
   "metadata": {},
   "outputs": [],
   "source": [
    "from statsmodels.stats.stattools import durbin_watson\n",
    "\n",
    "dw = durbin_watson(residuals)\n",
    "print(\"Durbin-Watson statistic:\", dw)\n"
   ]
  },
  {
   "cell_type": "markdown",
   "id": "2a065892",
   "metadata": {},
   "source": [
    "So, there is a significant autocorrelation."
   ]
  },
  {
   "cell_type": "code",
   "execution_count": null,
   "id": "509e9573",
   "metadata": {},
   "outputs": [],
   "source": [
    "from statsmodels.tsa.arima.model import ARIMA\n",
    "model = ARIMA(west_bengal_data['resid'][:-24*486], order=(1, 0, 1))  # Example order\n",
    "model_fit = model.fit()"
   ]
  },
  {
   "cell_type": "code",
   "execution_count": null,
   "id": "4e7aae3a",
   "metadata": {},
   "outputs": [],
   "source": [
    "print(\"AIC: \",model_fit.aic)"
   ]
  },
  {
   "cell_type": "code",
   "execution_count": null,
   "id": "2847670f",
   "metadata": {},
   "outputs": [],
   "source": [
    "out_sample_forecast = model_fit.forecast(steps=len(west_bengal_data['DateTime'][-24*486:]))\n"
   ]
  },
  {
   "cell_type": "code",
   "execution_count": null,
   "id": "27c43885",
   "metadata": {},
   "outputs": [],
   "source": [
    "fig= go.Figure()\n",
    "fig.add_trace(go.Scatter(x=west_bengal_data['DateTime'][-forecast_steps:], y=west_bengal_data['resid'][-forecast_steps:], name='Observed'))\n",
    "fig.add_trace(go.Scatter(x=west_bengal_data['DateTime'][-forecast_steps:], y=out_sample_forecast, name='Forecast'))\n",
    "fig.update_layout(\n",
    "    title='Forecast vs Observed',\n",
    "    xaxis_title='DateTime',\n",
    "    yaxis_title='Residuals',\n",
    "    # xaxis=dict(\n",
    "    #     rangeslider=dict(visible=True),  # Enable range slider for the bottom subplot\n",
    "    #     type=\"date\"  # Use date scale for x-axis\n",
    "    # ),\n",
    "    template='plotly_white'\n",
    ")\n",
    "fig.show()"
   ]
  },
  {
   "cell_type": "markdown",
   "id": "34c70ddf",
   "metadata": {},
   "source": [
    "### Final Forecast"
   ]
  },
  {
   "cell_type": "code",
   "execution_count": null,
   "id": "9de977c8",
   "metadata": {},
   "outputs": [],
   "source": [
    "from sklearn.metrics import mean_squared_error, mean_absolute_error\n",
    "forecast=predicted_trend[-24*486:]+daily_seasonality[-24*486:]+monthly_seasonality[-24*486:]\n",
    "actual=west_bengal_data['Hourly Demand Met (in MW)'][-24*486:]\n",
    "mse=mean_squared_error(actual,forecast)\n",
    "mae=mean_absolute_error(actual,forecast)\n",
    "print(f\"MSE for the final forecast: {mse:.2f}\\nMAE for the final forecast: {mae:.2f}\")"
   ]
  },
  {
   "cell_type": "code",
   "execution_count": null,
   "id": "06976fbf",
   "metadata": {},
   "outputs": [],
   "source": [
    "from sklearn.metrics import mean_squared_error, mean_absolute_error\n",
    "forecast=predicted_trend[-24*486:]+daily_seasonality_tbats+yearly_seasonality_tbats\n",
    "actual=west_bengal_data['Hourly Demand Met (in MW)'][-24*486:]\n",
    "mse=mean_squared_error(actual,forecast)\n",
    "mae=mean_absolute_error(actual,forecast)\n",
    "print(f\"Using TBATS\\nMSE for the final forecast: {mse:.2f}\\nMAE for the final forecast: {mae:.2f}\")"
   ]
  },
  {
   "cell_type": "code",
   "execution_count": null,
   "id": "e70c8576",
   "metadata": {},
   "outputs": [],
   "source": [
    "fig= go.Figure()\n",
    "fig.add_trace(go.Scatter(x=west_bengal_data['DateTime'][-forecast_steps:], y=actual, name='Observed'))\n",
    "fig.add_trace(go.Scatter(x=west_bengal_data['DateTime'][-forecast_steps:], y=forecast, name='Forecast',mode='lines',opacity=0.6))  # 60% opaque (40% transparent)\n",
    "fig.update_layout(\n",
    "    title='Forecast vs Observed',\n",
    "    xaxis_title='DateTime',\n",
    "    yaxis_title='Hourly Demand Met (in MW)',\n",
    "    # xaxis=dict(\n",
    "    #     rangeslider=dict(visible=True),  # Enable range slider for the bottom subplot\n",
    "    #     type=\"date\"  # Use date scale for x-axis\n",
    "    # ),\n",
    "    template='plotly_white'\n",
    ")\n",
    "fig.show()"
   ]
  },
  {
   "cell_type": "markdown",
   "id": "098069bb",
   "metadata": {},
   "source": [
    "## Another approach"
   ]
  },
  {
   "cell_type": "markdown",
   "id": "9df434b6",
   "metadata": {},
   "source": [
    "At first we will fit a linear trend to the whole data."
   ]
  },
  {
   "cell_type": "code",
   "execution_count": null,
   "id": "82d090f8",
   "metadata": {},
   "outputs": [],
   "source": [
    "### Fitting a linear trend\n",
    "# 1. Convert 'DateTime' to datetime type\n",
    "west_bengal_data['DateTime'] = pd.to_datetime(west_bengal_data['DateTime'])\n",
    "west_bengal_data['time_index'] = (west_bengal_data['DateTime'] - west_bengal_data['DateTime'].min()).dt.total_seconds() / 3600  # time in hours\n",
    "from sklearn.linear_model import LinearRegression\n",
    "\n",
    "# 3. Fit linear trend\n",
    "X = west_bengal_data[['time_index']][:-24*486]\n",
    "y = west_bengal_data['Hourly Demand Met (in MW)'][:-24*486]\n",
    "model = LinearRegression()\n",
    "model.fit(X, y)\n",
    "west_bengal_data['linear_trend'] = model.predict(west_bengal_data[['time_index']])\n",
    "\n",
    "# 4. Plot\n",
    "plt.figure(figsize=(12, 6))\n",
    "plt.plot(west_bengal_data['DateTime'], west_bengal_data['Hourly Demand Met (in MW)'], label='Original Data')\n",
    "plt.plot(west_bengal_data['DateTime'], west_bengal_data['linear_trend'], color='red', label='Linear Trend')\n",
    "plt.xlabel(\"DateTime\")\n",
    "plt.ylabel(\"Value\")\n",
    "plt.title(\"Fitted Linear Trend\")\n",
    "plt.legend()\n",
    "plt.grid(True)\n",
    "plt.tight_layout()\n",
    "plt.show()"
   ]
  },
  {
   "cell_type": "code",
   "execution_count": null,
   "id": "2b6d254e",
   "metadata": {},
   "outputs": [],
   "source": [
    "print(\"Linear Trend Coefficient:\", model.coef_[0])\n",
    "print(\"Linear Trend Intercept:\", model.intercept_)"
   ]
  },
  {
   "cell_type": "code",
   "execution_count": null,
   "id": "30329b4f",
   "metadata": {},
   "outputs": [],
   "source": [
    "west_bengal_data['detrended']=west_bengal_data['Hourly Demand Met (in MW)'] - west_bengal_data['linear_trend']"
   ]
  },
  {
   "cell_type": "code",
   "execution_count": null,
   "id": "eafb33e7",
   "metadata": {},
   "outputs": [],
   "source": [
    "### Daily seasonality\n",
    "hour_dummies = pd.get_dummies(west_bengal_data['DateTime'].dt.time, prefix='hour', drop_first=True)\n",
    "from sklearn.linear_model import LinearRegression\n",
    "# Fit a linear regression model to predict seasonality from hour dummies\n",
    "lr_model = LinearRegression()\n",
    "lr_model.fit(hour_dummies[:-24*486], west_bengal_data['detrended'][:-24*486])\n",
    "\n",
    "# Predict seasonality from hour\n",
    "daily_seasonality= lr_model.predict(hour_dummies)"
   ]
  },
  {
   "cell_type": "code",
   "execution_count": null,
   "id": "45daeea2",
   "metadata": {},
   "outputs": [],
   "source": [
    "print('Intercept: ',lr_model.intercept_,\"Coefficients: \",lr_model.coef_)"
   ]
  },
  {
   "cell_type": "code",
   "execution_count": null,
   "id": "380e335a",
   "metadata": {},
   "outputs": [],
   "source": [
    "forecast_steps = 24 * 486  # Forecast for the next 486 days (24 hours each)"
   ]
  },
  {
   "cell_type": "code",
   "execution_count": null,
   "id": "7ad792e0",
   "metadata": {},
   "outputs": [],
   "source": [
    "fig= go.Figure()\n",
    "fig.add_trace(go.Scatter(x=west_bengal_data['DateTime'][-forecast_steps:], y=west_bengal_data['detrended'][-forecast_steps:], name='Observed'))\n",
    "fig.add_trace(go.Scatter(\n",
    "    x=west_bengal_data['DateTime'][-forecast_steps:],\n",
    "    y=daily_seasonality[-forecast_steps:], \n",
    "    name='Forecast_Dummy',\n",
    "    mode='lines',\n",
    "    opacity= 0.6  # 60% opaque (40% transparent)\n",
    "        ))\n",
    "\n",
    "fig.update_layout(\n",
    "    title='Seasonality Forecast vs Observed',\n",
    "    xaxis_title='DateTime',\n",
    "    yaxis_title='Daily Seasonal Component',\n",
    "    # xaxis=dict(\n",
    "    #     rangeslider=dict(visible=True),  # Enable range slider for the bottom subplot\n",
    "    #     type=\"date\"  # Use date scale for x-axis\n",
    "    # ),\n",
    "    legend=dict(\n",
    "          # Horizontal legend\n",
    "        yanchor=\"top\",\n",
    "        y=1,  # Position below plot\n",
    "        xanchor=\"center\",\n",
    "        x=0.9,\n",
    "        borderwidth=1,\n",
    "        bordercolor=\"Black\",\n",
    "        \n",
    "     \n",
    "    ),\n",
    "    width=810,\n",
    "    \n",
    "    template='plotly_white'\n",
    ")\n",
    "fig.show()"
   ]
  },
  {
   "cell_type": "code",
   "execution_count": null,
   "id": "5ad4ea44",
   "metadata": {},
   "outputs": [],
   "source": [
    "west_bengal_data['detrended_daily_seasonality'] = west_bengal_data['detrended'] - daily_seasonality"
   ]
  },
  {
   "cell_type": "code",
   "execution_count": null,
   "id": "26506bb0",
   "metadata": {},
   "outputs": [],
   "source": [
    "month_dummies = pd.get_dummies(west_bengal_data['DateTime'].dt.month, prefix='month', drop_first=True)\n",
    "lr_model_monthly = LinearRegression()\n",
    "lr_model_monthly.fit(month_dummies[:-24*486], west_bengal_data['detrended_daily_seasonality'][:-24*486])\n",
    "\n",
    "# Predict seasonality from hour\n",
    "monthly_seasonality= lr_model_monthly.predict(month_dummies)"
   ]
  },
  {
   "cell_type": "code",
   "execution_count": null,
   "id": "ed617037",
   "metadata": {},
   "outputs": [],
   "source": [
    "print('Model Coefficients : ',lr_model_monthly.coef_,'\\nModel Intercept : ',lr_model_monthly.intercept_)"
   ]
  },
  {
   "cell_type": "code",
   "execution_count": null,
   "id": "5818cbd8",
   "metadata": {},
   "outputs": [],
   "source": [
    "fig= go.Figure()\n",
    "fig.add_trace(go.Scatter(x=west_bengal_data['DateTime'][-forecast_steps:], y=west_bengal_data['detrended_daily_seasonality'][-forecast_steps:], name='Observed'))\n",
    "fig.add_trace(go.Scatter(x=west_bengal_data['DateTime'][-forecast_steps:], y=monthly_seasonality[-forecast_steps:], name='Forecast_Dummy'))\n",
    "fig.update_layout(\n",
    "    title='Seasonality Forecast vs Observed',\n",
    "    xaxis_title='DateTime',\n",
    "    yaxis_title='Yearly Seasonal Component',\n",
    "    # xaxis=dict(\n",
    "    #     rangeslider=dict(visible=True),  # Enable range slider for the bottom subplot\n",
    "    #     type=\"date\"  # Use date scale for x-axis\n",
    "    # ),\n",
    "    legend=dict(\n",
    "          # Horizontal legend\n",
    "        yanchor=\"top\",\n",
    "        y=1,  # Position below plot\n",
    "        xanchor=\"center\",\n",
    "        x=0.9,\n",
    "        borderwidth=1,\n",
    "        bordercolor=\"Black\",\n",
    "        \n",
    "     \n",
    "    ),\n",
    "    width=810,\n",
    "    template='plotly_white'\n",
    ")\n",
    "fig.show()"
   ]
  },
  {
   "cell_type": "code",
   "execution_count": null,
   "id": "904bcdce",
   "metadata": {},
   "outputs": [],
   "source": [
    "west_bengal_data['detrended_monthly_seasonality'] = west_bengal_data['detrended_daily_seasonality'] - monthly_seasonality"
   ]
  },
  {
   "cell_type": "code",
   "execution_count": null,
   "id": "71211355",
   "metadata": {},
   "outputs": [],
   "source": [
    "forecast=west_bengal_data['linear_trend'][-24*486:]+daily_seasonality[-24*486:]+monthly_seasonality[-24*486:]\n",
    "actual=west_bengal_data['Hourly Demand Met (in MW)'][-24*486:]\n",
    "mse=mean_squared_error(actual,forecast)\n",
    "mae=mean_absolute_error(actual,forecast)\n",
    "print(mse,mae)"
   ]
  },
  {
   "cell_type": "code",
   "execution_count": null,
   "id": "c8220f8f",
   "metadata": {},
   "outputs": [],
   "source": [
    "west_bengal_data['is_weekend'] = west_bengal_data['DateTime'].dt.dayofweek >= 5  # Saturday and Sunday are considered weekends"
   ]
  },
  {
   "cell_type": "code",
   "execution_count": null,
   "id": "45a9a0a0",
   "metadata": {},
   "outputs": [],
   "source": [
    "west_bengal_data.sample(10)"
   ]
  },
  {
   "cell_type": "code",
   "execution_count": null,
   "id": "49f2ba7f",
   "metadata": {},
   "outputs": [],
   "source": [
    "weekend_dummies=pd.get_dummies(west_bengal_data['is_weekend'], drop_first=True)"
   ]
  },
  {
   "cell_type": "code",
   "execution_count": null,
   "id": "c54e84cb",
   "metadata": {},
   "outputs": [],
   "source": [
    "lr_model_weekly = LinearRegression()\n",
    "lr_model_weekly.fit(weekend_dummies[:-24*486], west_bengal_data['detrended_monthly_seasonality'][:-24*486])\n",
    "\n",
    "# Predict seasonality from \n",
    "weekly_seasonality= lr_model_weekly.predict(weekend_dummies)"
   ]
  },
  {
   "cell_type": "code",
   "execution_count": null,
   "id": "31183a99",
   "metadata": {},
   "outputs": [],
   "source": [
    "lr_model_weekly.intercept_"
   ]
  },
  {
   "cell_type": "code",
   "execution_count": null,
   "id": "d87b8230",
   "metadata": {},
   "outputs": [],
   "source": [
    "lr_model_weekly.coef_"
   ]
  },
  {
   "cell_type": "code",
   "execution_count": null,
   "id": "276598a9",
   "metadata": {},
   "outputs": [],
   "source": [
    "west_bengal_data['residuals'] = west_bengal_data['detrended_monthly_seasonality'] - weekly_seasonality"
   ]
  },
  {
   "cell_type": "code",
   "execution_count": null,
   "id": "e3f0d980",
   "metadata": {},
   "outputs": [],
   "source": [
    "forecast=west_bengal_data['linear_trend'][-24*486:]+daily_seasonality[-24*486:]+monthly_seasonality[-24*486:]+weekly_seasonality[-24*486:]\n",
    "actual=west_bengal_data['Hourly Demand Met (in MW)'][-24*486:]\n",
    "mse=mean_squared_error(actual,forecast)\n",
    "mae=mean_absolute_error(actual,forecast)\n",
    "print(mse,mae)"
   ]
  },
  {
   "cell_type": "code",
   "execution_count": null,
   "id": "7d354e0b",
   "metadata": {},
   "outputs": [],
   "source": [
    "fig= go.Figure()\n",
    "fig.add_trace(go.Scatter(x=west_bengal_data['DateTime'][-forecast_steps:], y=actual, name='Observed'))\n",
    "fig.add_trace(go.Scatter(x=west_bengal_data['DateTime'][-forecast_steps:], y=forecast, name='Forecast_Dummy',mode='lines',opacity=0.6))  # 60% opaque (40% transparent)\n",
    "fig.update_layout(\n",
    "    title='Final Forecast vs Observed using LR model',\n",
    "    xaxis_title='DateTime',\n",
    "    yaxis_title='Hourly Demand Met (in MW)',\n",
    "    # xaxis=dict(\n",
    "    #     rangeslider=dict(visible=True),  # Enable range slider for the bottom subplot\n",
    "    #     type=\"date\"  # Use date scale for x-axis\n",
    "    # ),\n",
    "    template='plotly_white'\n",
    ")\n",
    "fig.show()"
   ]
  },
  {
   "cell_type": "code",
   "execution_count": null,
   "id": "7a2d6379",
   "metadata": {},
   "outputs": [],
   "source": [
    "fig= go.Figure()\n",
    "fig.add_trace(go.Scatter(x=west_bengal_data['DateTime'], y=west_bengal_data['residuals'], name='Observed'))\n",
    "fig.update_layout(\n",
    "    title='Residuals',\n",
    "    xaxis_title='DateTime',\n",
    "    yaxis_title='Residuals',\n",
    "    # xaxis=dict(\n",
    "    #     rangeslider=dict(visible=True),  # Enable range slider for the bottom subplot\n",
    "    #     type=\"date\"  # Use date scale for x-axis\n",
    "    # ),\n",
    "    template='plotly_white'\n",
    ")\n",
    "fig.show()"
   ]
  },
  {
   "cell_type": "code",
   "execution_count": null,
   "id": "9b95b1e9",
   "metadata": {},
   "outputs": [],
   "source": [
    "\n",
    "from statsmodels.tsa.stattools import acf,pacf\n",
    "import numpy as np\n",
    "residuals = west_bengal_data['residuals']\n",
    "\n",
    "# Compute ACF and confidence intervals\n",
    "acf_values = acf(residuals, nlags=600, fft=True)  # nlags = max lag to compute\n",
    "conf_int = 1.96 / np.sqrt(len(residuals))  # 95% confidence interval\n",
    "\n",
    "# Create Plotly figure\n",
    "fig = go.Figure()\n",
    "\n",
    "# Add ACF bars\n",
    "fig.add_trace(\n",
    "    go.Bar(\n",
    "        x=list(range(len(acf_values))),\n",
    "        y=acf_values,\n",
    "        name=\"ACF\",\n",
    "    )\n",
    ")\n",
    "\n",
    "# Add confidence interval lines\n",
    "fig.add_hline(\n",
    "    y=conf_int,\n",
    "    line_dash=\"dot\",\n",
    "    line_color=\"red\",\n",
    "    annotation_text=\"95% CI\",\n",
    "    annotation_position=\"bottom right\"\n",
    ")\n",
    "fig.add_hline(\n",
    "    y=-conf_int,\n",
    "    line_dash=\"dot\",\n",
    "    line_color=\"red\"\n",
    ")\n",
    "\n",
    "# Customize layout\n",
    "fig.update_layout(\n",
    "    title=\"Autocorrelation (ACF) Plot\",\n",
    "    xaxis_title=\"Lag\",\n",
    "    yaxis_title=\"Correlation\",\n",
    "    showlegend=False,\n",
    "    template=\"plotly_white\",\n",
    "    # xaxis=dict(\n",
    "    #     rangeslider=dict(visible=True),  # Enable range slider for the bottom subplot\n",
    "    #     type=\"linear\"  # Use linear scale for x-axis\n",
    "    # )\n",
    ")\n",
    "\n",
    "fig.show()"
   ]
  },
  {
   "cell_type": "code",
   "execution_count": null,
   "id": "874de224",
   "metadata": {},
   "outputs": [],
   "source": [
    "# 1. Compute PACF values (nlags = number of lags to compute)\n",
    "pacf_values = pacf(west_bengal_data['residuals'], nlags=400)\n",
    "\n",
    "# 2. Plot using Plotly\n",
    "lags = list(range(len(pacf_values)))\n",
    "\n",
    "fig = go.Figure()\n",
    "\n",
    "# Bars\n",
    "fig.add_trace(go.Bar(x=lags, y=pacf_values, name='PACF'))\n",
    "\n",
    "# Confidence intervals (approx ±1.96/√n)\n",
    "import numpy as np\n",
    "conf_level = 1.96 / np.sqrt(len(west_bengal_data['residuals']))\n",
    "\n",
    "fig.add_shape(type=\"line\", x0=0, x1=len(lags), y0=conf_level, y1=conf_level,\n",
    "              line=dict(color=\"red\", dash=\"dash\"))\n",
    "fig.add_shape(type=\"line\", x0=0, x1=len(lags), y0=-conf_level, y1=-conf_level,\n",
    "              line=dict(color=\"red\", dash=\"dash\"))\n",
    "\n",
    "# Layout\n",
    "fig.update_layout(title=\"Partial Autocorrelation Function (PACF)\",\n",
    "                  xaxis_title=\"Lag\",\n",
    "                  yaxis_title=\"PACF\",\n",
    "                  showlegend=False)\n",
    "fig.show()"
   ]
  },
  {
   "cell_type": "code",
   "execution_count": null,
   "id": "58f27019",
   "metadata": {},
   "outputs": [],
   "source": [
    "from statsmodels.tsa.stattools import adfuller\n",
    "result = adfuller(west_bengal_data['residuals'], autolag='AIC')\n",
    "print(\"ADF Statistic:\", result[0])\n",
    "print(\"p-value:\", result[1])\n",
    "print(\"Used lags:\", result[2])\n",
    "print(\"Number of observations:\", result[3])\n",
    "print(\"Critical Values:\")\n",
    "for k, v in result[4].items():\n",
    "    print(f\"  {k}%: {v}\")"
   ]
  },
  {
   "cell_type": "code",
   "execution_count": null,
   "id": "605c60df",
   "metadata": {},
   "outputs": [],
   "source": [
    "# tbats_model_fitted=model_daily.fit(west_bengal_data['residuals'][:-24*486])"
   ]
  },
  {
   "cell_type": "code",
   "execution_count": null,
   "id": "eb713dff",
   "metadata": {},
   "outputs": [],
   "source": [
    "# residuals_pattern = tbats_model_fitted.forecast(steps=forecast_steps)"
   ]
  },
  {
   "cell_type": "code",
   "execution_count": null,
   "id": "128dc8f1",
   "metadata": {},
   "outputs": [],
   "source": [
    "# fig= go.Figure()\n",
    "# fig.add_trace(go.Scatter(x=west_bengal_data['DateTime'][-forecast_steps:], y=west_bengal_data['residuals'], name='Observed'))\n",
    "# fig.add_trace(go.Scatter(x=west_bengal_data['DateTime'][-forecast_steps:], y=residuals_pattern, name='Forecast_Dummy',mode='lines',opacity=0.6))  # 60% opaque (40% transparent)\n",
    "# fig.update_layout(\n",
    "#     title='Residual Modelling Using TBATs',\n",
    "#     xaxis_title='DateTime',\n",
    "#     yaxis_title='Residuals',\n",
    "#     # xaxis=dict(\n",
    "#     #     rangeslider=dict(visible=True),  # Enable range slider for the bottom subplot\n",
    "#     #     type=\"date\"  # Use date scale for x-axis\n",
    "#     # ),\n",
    "#     template='plotly_white'\n",
    "# )\n",
    "# fig.show()"
   ]
  },
  {
   "cell_type": "code",
   "execution_count": null,
   "id": "a3288324",
   "metadata": {},
   "outputs": [],
   "source": [
    "from statsmodels.tsa.statespace.sarimax import SARIMAX\n",
    "# SARIMA(p,d,q)(P,D,Q,24) where 24 is the seasonal period\n",
    "model = SARIMAX(west_bengal_data['residuals'][:-24*486], order=(1, 0, 1), seasonal_order=(1, 0, 1, 24))\n",
    "results = model.fit()\n",
    "print(results.summary())"
   ]
  },
  {
   "cell_type": "code",
   "execution_count": null,
   "id": "e25b5148",
   "metadata": {},
   "outputs": [],
   "source": [
    "train_pred = results.get_prediction(start=0, end=len(west_bengal_data['residuals'][:-24*486])-1)\n",
    "train_mean = train_pred.predicted_mean"
   ]
  },
  {
   "cell_type": "code",
   "execution_count": null,
   "id": "69f4d2ea",
   "metadata": {},
   "outputs": [],
   "source": [
    "type(train_mean)"
   ]
  },
  {
   "cell_type": "code",
   "execution_count": null,
   "id": "46b0979e",
   "metadata": {},
   "outputs": [],
   "source": [
    "forecast = results.get_forecast(steps=forecast_steps)\n",
    "test_mean = forecast.predicted_mean\n",
    "test_ci = forecast.conf_int()"
   ]
  },
  {
   "cell_type": "code",
   "execution_count": null,
   "id": "1cbc6fcd",
   "metadata": {},
   "outputs": [],
   "source": [
    "combined = pd.concat([train_mean, test_mean], axis=0)"
   ]
  },
  {
   "cell_type": "code",
   "execution_count": null,
   "id": "7dd23c3b",
   "metadata": {},
   "outputs": [],
   "source": [
    "fig=go.Figure()\n",
    "fig.add_trace(go.Scatter(x=west_bengal_data['DateTime'][-forecast_steps:], y=west_bengal_data['residuals'][-forecast_steps:], name='Observed'))\n",
    "fig.add_trace(go.Scatter(x=west_bengal_data['DateTime'][-forecast_steps:], y=test_mean, name='Forecast', mode='lines', opacity=0.6))  # 60% opaque (40% transparent)\n",
    "# fig.add_trace(go.Scatter(x=west_bengal_data['DateTime'][-forecast_steps:], y=test_ci.iloc[:, 0], fill=None, mode='lines', line=dict(width=0)))\n",
    "# fig.add_trace(go.Scatter(x=west_bengal_data['DateTime'][-forecast_steps:], y=test_ci.iloc[:, 1], fill='tonexty', mode='lines', line=dict(width=0),opacity=0.2,  # 20% opaque (80% transparent) \n",
    "#                          name='95% CI'))\n",
    "fig.update_layout(title='SARIMAX: Actual vs Predicted', template='plotly_white')\n",
    "fig.show()"
   ]
  },
  {
   "cell_type": "code",
   "execution_count": null,
   "id": "660c83f3",
   "metadata": {},
   "outputs": [],
   "source": [
    "west_bengal_data['sarimax_residuals'] = west_bengal_data['residuals'] - combined"
   ]
  },
  {
   "cell_type": "code",
   "execution_count": null,
   "id": "13ac1d97",
   "metadata": {},
   "outputs": [],
   "source": [
    "forecast=west_bengal_data['linear_trend'][-24*486:]+daily_seasonality[-24*486:]+monthly_seasonality[-24*486:]+weekly_seasonality[-24*486:] +test_mean\n",
    "actual=west_bengal_data['Hourly Demand Met (in MW)'][-24*486:]\n",
    "mse=mean_squared_error(actual,forecast)\n",
    "mae=mean_absolute_error(actual,forecast)\n",
    "print(mse,mae)"
   ]
  }
 ],
 "metadata": {
  "kernelspec": {
   "display_name": "Python 3",
   "language": "python",
   "name": "python3"
  },
  "language_info": {
   "codemirror_mode": {
    "name": "ipython",
    "version": 3
   },
   "file_extension": ".py",
   "mimetype": "text/x-python",
   "name": "python",
   "nbconvert_exporter": "python",
   "pygments_lexer": "ipython3",
   "version": "3.10.7"
  }
 },
 "nbformat": 4,
 "nbformat_minor": 5
}
